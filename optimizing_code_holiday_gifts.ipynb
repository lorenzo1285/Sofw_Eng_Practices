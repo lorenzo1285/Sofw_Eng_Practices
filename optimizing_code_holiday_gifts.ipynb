{
  "nbformat": 4,
  "nbformat_minor": 0,
  "metadata": {
    "kernelspec": {
      "display_name": "Python 3",
      "language": "python",
      "name": "python3"
    },
    "language_info": {
      "codemirror_mode": {
        "name": "ipython",
        "version": 3
      },
      "file_extension": ".py",
      "mimetype": "text/x-python",
      "name": "python",
      "nbconvert_exporter": "python",
      "pygments_lexer": "ipython3",
      "version": "3.6.3"
    },
    "colab": {
      "name": "optimizing-code-holiday-gifts.ipynb",
      "provenance": [],
      "include_colab_link": true
    }
  },
  "cells": [
    {
      "cell_type": "markdown",
      "metadata": {
        "id": "view-in-github",
        "colab_type": "text"
      },
      "source": [
        "<a href=\"https://colab.research.google.com/github/lorenzo1285/Sofw_Eng_Practices/blob/main/optimizing_code_holiday_gifts.ipynb\" target=\"_parent\"><img src=\"https://colab.research.google.com/assets/colab-badge.svg\" alt=\"Open In Colab\"/></a>"
      ]
    },
    {
      "cell_type": "markdown",
      "metadata": {
        "id": "9t9PrQK8862r"
      },
      "source": [
        "# Optimizing Code: Holiday Gifts\n",
        "In the last example, you learned that using vectorized operations and more efficient data structures can optimize your code. Let's use these tips for one more example.\n",
        "\n",
        "Say your online gift store has one million users that each listed a gift on a wish list. You have the prices for each of these gifts stored in `gift_costs.txt`. For the holidays, you're going to give each customer their wish list gift for free if it is under 25 dollars. Now, you want to calculate the total cost of all gifts under 25 dollars to see how much you'd spend on free gifts. Here's one way you could've done it."
      ]
    },
    {
      "cell_type": "code",
      "metadata": {
        "id": "Ic-5wsLt863X"
      },
      "source": [
        "import time\n",
        "import numpy as np"
      ],
      "execution_count": 3,
      "outputs": []
    },
    {
      "cell_type": "code",
      "metadata": {
        "colab": {
          "base_uri": "https://localhost:8080/"
        },
        "id": "84PZRxCV9qpd",
        "outputId": "94897a40-cc75-49a2-c1e7-b38dd689068b"
      },
      "source": [
        "from google.colab import drive\n",
        "drive.mount('/content/drive')"
      ],
      "execution_count": 1,
      "outputs": [
        {
          "output_type": "stream",
          "name": "stdout",
          "text": [
            "Mounted at /content/drive\n"
          ]
        }
      ]
    },
    {
      "cell_type": "code",
      "metadata": {
        "id": "tFcUpgdU863d"
      },
      "source": [
        "with open('/content/gift-costs.txt') as f:\n",
        "    gift_costs = f.read().split('\\n')\n",
        "    \n",
        "gift_costs = np.array(gift_costs).astype(int)  # convert string to int"
      ],
      "execution_count": 4,
      "outputs": []
    },
    {
      "cell_type": "code",
      "metadata": {
        "colab": {
          "base_uri": "https://localhost:8080/"
        },
        "id": "n68Jcg1k-OiA",
        "outputId": "4919b6ad-72ec-4bd0-d290-e2bda43d5977"
      },
      "source": [
        "gift_costs < 25"
      ],
      "execution_count": 8,
      "outputs": [
        {
          "output_type": "stream",
          "name": "stdout",
          "text": [
            "[ True False False ... False  True  True]\n"
          ]
        }
      ]
    },
    {
      "cell_type": "code",
      "metadata": {
        "id": "DjVQAB0Z863f",
        "colab": {
          "base_uri": "https://localhost:8080/"
        },
        "outputId": "3cf2e6f1-3a16-40c8-8bd4-7e7635f52501"
      },
      "source": [
        "start = time.time()\n",
        "\n",
        "total_price = 0\n",
        "for cost in gift_costs:\n",
        "    if cost < 25:\n",
        "        total_price += cost * 1.08  # add cost after tax\n",
        "\n",
        "print(total_price)\n",
        "print('Duration: {} seconds'.format(time.time() - start))"
      ],
      "execution_count": 6,
      "outputs": [
        {
          "output_type": "stream",
          "name": "stdout",
          "text": [
            "32765421.23999867\n",
            "Duration: 9.029113292694092 seconds\n"
          ]
        }
      ]
    },
    {
      "cell_type": "markdown",
      "metadata": {
        "id": "fkdG7T1o863j"
      },
      "source": [
        "Here you iterate through each cost in the list, and check if it's less than 25. If so, you add the cost to the total price after tax. This works, but there is a much faster way to do this. Can you refactor this to run under half a second?"
      ]
    },
    {
      "cell_type": "markdown",
      "metadata": {
        "id": "2PojnYIV863n"
      },
      "source": [
        "## Refactor Code\n",
        "**Hint:** Using numpy makes it very easy to select all the elements in an array that meet a certain condition, and then perform operations on them together all at once. You can them find the sum of what those values end up being."
      ]
    },
    {
      "cell_type": "code",
      "metadata": {
        "id": "EnPr1Lvk863q",
        "colab": {
          "base_uri": "https://localhost:8080/"
        },
        "outputId": "4fea4c69-9bc6-4175-ba51-66b7f18d5a7e"
      },
      "source": [
        "start = time.time()\n",
        "\n",
        "total_price = (gift_costs[gift_costs < 25]).sum() * 1.08\n",
        "print(total_price)\n",
        "\n",
        "print(total_price)\n",
        "print('Duration: {} seconds'.format(time.time() - start))"
      ],
      "execution_count": 9,
      "outputs": [
        {
          "output_type": "stream",
          "name": "stdout",
          "text": [
            "32765421.240000002\n",
            "32765421.240000002\n",
            "Duration: 0.0731964111328125 seconds\n"
          ]
        }
      ]
    },
    {
      "cell_type": "code",
      "metadata": {
        "id": "SNWik6g-863v"
      },
      "source": [
        ""
      ],
      "execution_count": null,
      "outputs": []
    }
  ]
}