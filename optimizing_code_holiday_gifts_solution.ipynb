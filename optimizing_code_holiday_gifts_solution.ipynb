{
  "nbformat": 4,
  "nbformat_minor": 0,
  "metadata": {
    "kernelspec": {
      "display_name": "Python 3",
      "language": "python",
      "name": "python3"
    },
    "language_info": {
      "codemirror_mode": {
        "name": "ipython",
        "version": 3
      },
      "file_extension": ".py",
      "mimetype": "text/x-python",
      "name": "python",
      "nbconvert_exporter": "python",
      "pygments_lexer": "ipython3",
      "version": "3.6.3"
    },
    "colab": {
      "name": "optimizing-code-holiday-gifts-solution.ipynb",
      "provenance": [],
      "include_colab_link": true
    }
  },
  "cells": [
    {
      "cell_type": "markdown",
      "metadata": {
        "id": "view-in-github",
        "colab_type": "text"
      },
      "source": [
        "<a href=\"https://colab.research.google.com/github/lorenzo1285/Sofw_Eng_Practices/blob/main/optimizing_code_holiday_gifts_solution.ipynb\" target=\"_parent\"><img src=\"https://colab.research.google.com/assets/colab-badge.svg\" alt=\"Open In Colab\"/></a>"
      ]
    },
    {
      "cell_type": "markdown",
      "metadata": {
        "id": "2XTSJQR-ABlB"
      },
      "source": [
        "# Optimizing Code: Holiday Gifts\n",
        "In the last example, you learned that using vectorized operations and more efficient data structures can optimize your code. Let's use these tips for one more example.\n",
        "\n",
        "Say your online gift store has one million users that each listed a gift on a wish list. You have the prices for each of these gifts stored in `gift_costs.txt`. For the holidays, you're going to give each customer their wish list gift for free if it is under 25 dollars. Now, you want to calculate the total cost of all gifts under 25 dollars to see how much you'd spend on free gifts. Here's one way you could've done it."
      ]
    },
    {
      "cell_type": "code",
      "metadata": {
        "id": "y_3fOdc6ABm5"
      },
      "source": [
        "import time\n",
        "import numpy as np"
      ],
      "execution_count": null,
      "outputs": []
    },
    {
      "cell_type": "code",
      "metadata": {
        "id": "-4ELGVK1ABnD"
      },
      "source": [
        "with open('gift_costs.txt') as f:\n",
        "    gift_costs = f.read().split('\\n')\n",
        "    \n",
        "gift_costs = np.array(gift_costs).astype(int)  # convert string to int"
      ],
      "execution_count": null,
      "outputs": []
    },
    {
      "cell_type": "code",
      "metadata": {
        "id": "4R30h41qABnG",
        "outputId": "d9ea6db2-3d98-4531-94df-5925d76e4ac8"
      },
      "source": [
        "start = time.time()\n",
        "\n",
        "total_price = 0\n",
        "for cost in gift_costs:\n",
        "    if cost < 25:\n",
        "        total_price += cost * 1.08  # add cost after tax\n",
        "\n",
        "print(total_price)\n",
        "print('Duration: {} seconds'.format(time.time() - start))"
      ],
      "execution_count": null,
      "outputs": [
        {
          "name": "stdout",
          "output_type": "stream",
          "text": [
            "32403404.16\n",
            "Duration: 5.570346832275391 seconds\n"
          ]
        }
      ]
    },
    {
      "cell_type": "markdown",
      "metadata": {
        "id": "RHPHgWR0ABnJ"
      },
      "source": [
        "Here you iterate through each cost in the list, and check if it's less than 25. If so, you add the cost to the total price after tax. This works, but there is a much faster way to do this. Can you refactor this to run under half a second?"
      ]
    },
    {
      "cell_type": "markdown",
      "metadata": {
        "id": "Z9ZpQX9FABnO"
      },
      "source": [
        "## Refactor Code\n",
        "**Hint:** Using numpy makes it very easy to select all the elements in an array that meet a certain condition, and then perform operations on them together all at once. You can them find the sum of what those values end up being."
      ]
    },
    {
      "cell_type": "code",
      "metadata": {
        "id": "KgKoA1OiABnQ",
        "outputId": "801b7e91-ef72-47a8-dfee-be45722f799e"
      },
      "source": [
        "start = time.time()\n",
        "\n",
        "total_price = (gift_costs[gift_costs < 25]).sum() * 1.08\n",
        "print(total_price)\n",
        "\n",
        "print('Duration: {} seconds'.format(time.time() - start))"
      ],
      "execution_count": null,
      "outputs": [
        {
          "name": "stdout",
          "output_type": "stream",
          "text": [
            "32403404.16\n",
            "Duration: 0.11853337287902832 seconds\n"
          ]
        }
      ]
    },
    {
      "cell_type": "code",
      "metadata": {
        "id": "niYd8yu1ABnY"
      },
      "source": [
        ""
      ],
      "execution_count": null,
      "outputs": []
    }
  ]
}