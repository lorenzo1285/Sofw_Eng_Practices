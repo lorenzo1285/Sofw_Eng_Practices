{
  "nbformat": 4,
  "nbformat_minor": 0,
  "metadata": {
    "kernelspec": {
      "display_name": "Python 3",
      "language": "python",
      "name": "python3"
    },
    "language_info": {
      "codemirror_mode": {
        "name": "ipython",
        "version": 3
      },
      "file_extension": ".py",
      "mimetype": "text/x-python",
      "name": "python",
      "nbconvert_exporter": "python",
      "pygments_lexer": "ipython3",
      "version": "3.6.3"
    },
    "colab": {
      "name": "optimizing-code-common-books-solution.ipynb",
      "provenance": [],
      "include_colab_link": true
    }
  },
  "cells": [
    {
      "cell_type": "markdown",
      "metadata": {
        "id": "view-in-github",
        "colab_type": "text"
      },
      "source": [
        "<a href=\"https://colab.research.google.com/github/lorenzo1285/Sofw_Eng_Practices/blob/main/optimizing_code_common_books_solution.ipynb\" target=\"_parent\"><img src=\"https://colab.research.google.com/assets/colab-badge.svg\" alt=\"Open In Colab\"/></a>"
      ]
    },
    {
      "cell_type": "markdown",
      "metadata": {
        "id": "8mxSN5DqtHSr"
      },
      "source": [
        "# Optimizing Code: Common Books - Solution\n",
        "Here's the code your coworker wrote to find the common book ids in `books_published_last_two_years.txt` and `all_coding_books.txt` to obtain a list of recent coding books."
      ]
    },
    {
      "cell_type": "code",
      "metadata": {
        "id": "dP92XA_ttHTu"
      },
      "source": [
        "import time\n",
        "import pandas as pd\n",
        "import numpy as np"
      ],
      "execution_count": null,
      "outputs": []
    },
    {
      "cell_type": "code",
      "metadata": {
        "id": "oydgH9B-tHUX"
      },
      "source": [
        "with open('books_published_last_two_years.txt') as f:\n",
        "    recent_books = f.read().split('\\n')\n",
        "    \n",
        "with open('all_coding_books.txt') as f:\n",
        "    coding_books = f.read().split('\\n')"
      ],
      "execution_count": null,
      "outputs": []
    },
    {
      "cell_type": "code",
      "metadata": {
        "id": "FlKM1lJstHUZ",
        "outputId": "a89d8df8-c4a0-47b5-d55e-ccba24c7db1c"
      },
      "source": [
        "start = time.time()\n",
        "recent_coding_books = []\n",
        "\n",
        "for book in recent_books:\n",
        "    if book in coding_books:\n",
        "        recent_coding_books.append(book)\n",
        "\n",
        "print(len(recent_coding_books))\n",
        "print('Duration: {} seconds'.format(time.time() - start))"
      ],
      "execution_count": null,
      "outputs": [
        {
          "name": "stdout",
          "output_type": "stream",
          "text": [
            "96\n",
            "Duration: 15.872233390808105 seconds\n"
          ]
        }
      ]
    },
    {
      "cell_type": "markdown",
      "metadata": {
        "id": "Ix0Gz0MKtHU8"
      },
      "source": [
        "### Tip #1: Use vector operations over loops when possible\n",
        "\n",
        "Use numpy's `intersect1d` method to get the intersection of the `recent_books` and `coding_books` arrays."
      ]
    },
    {
      "cell_type": "code",
      "metadata": {
        "id": "3Zc9ltMWtHU-",
        "outputId": "139bc163-5b4a-4eed-fb91-f3326041531b"
      },
      "source": [
        "start = time.time()\n",
        "recent_coding_books = np.intersect1d(recent_books, coding_books)\n",
        "print(len(recent_coding_books))\n",
        "print('Duration: {} seconds'.format(time.time() - start))"
      ],
      "execution_count": null,
      "outputs": [
        {
          "name": "stdout",
          "output_type": "stream",
          "text": [
            "96\n",
            "Duration: 0.031774282455444336 seconds\n"
          ]
        }
      ]
    },
    {
      "cell_type": "markdown",
      "metadata": {
        "id": "ZzZFEmaItHVF"
      },
      "source": [
        "### Tip #2: Know your data structures and which methods are faster\n",
        "Use the set's `intersection` method to get the common elements in `recent_books` and `coding_books`."
      ]
    },
    {
      "cell_type": "code",
      "metadata": {
        "id": "iHcdVTsntHVH",
        "outputId": "8c4e31df-9dac-4598-c3ea-1da1784c52ad"
      },
      "source": [
        "start = time.time()\n",
        "recent_coding_books = set(recent_books).intersection(coding_books)\n",
        "print(len(recent_coding_books))\n",
        "print('Duration: {} seconds'.format(time.time() - start))"
      ],
      "execution_count": null,
      "outputs": [
        {
          "name": "stdout",
          "output_type": "stream",
          "text": [
            "96\n",
            "Duration: 0.0070879459381103516 seconds\n"
          ]
        }
      ]
    },
    {
      "cell_type": "markdown",
      "metadata": {
        "id": "ujyfK7wktHVT"
      },
      "source": [
        "### Looks like using sets to compute the intersection is indeed most efficient in this case!"
      ]
    },
    {
      "cell_type": "code",
      "metadata": {
        "id": "m5wgWyYCtHVX"
      },
      "source": [
        ""
      ],
      "execution_count": null,
      "outputs": []
    }
  ]
}