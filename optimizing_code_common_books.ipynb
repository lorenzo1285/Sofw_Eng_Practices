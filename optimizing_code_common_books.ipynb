{
  "nbformat": 4,
  "nbformat_minor": 0,
  "metadata": {
    "kernelspec": {
      "display_name": "Python 3",
      "language": "python",
      "name": "python3"
    },
    "language_info": {
      "codemirror_mode": {
        "name": "ipython",
        "version": 3
      },
      "file_extension": ".py",
      "mimetype": "text/x-python",
      "name": "python",
      "nbconvert_exporter": "python",
      "pygments_lexer": "ipython3",
      "version": "3.6.3"
    },
    "colab": {
      "name": "optimizing-code-common-books.ipynb",
      "provenance": [],
      "include_colab_link": true
    }
  },
  "cells": [
    {
      "cell_type": "markdown",
      "metadata": {
        "id": "view-in-github",
        "colab_type": "text"
      },
      "source": [
        "<a href=\"https://colab.research.google.com/github/lorenzo1285/Sofw_Eng_Practices/blob/main/optimizing_code_common_books.ipynb\" target=\"_parent\"><img src=\"https://colab.research.google.com/assets/colab-badge.svg\" alt=\"Open In Colab\"/></a>"
      ]
    },
    {
      "cell_type": "markdown",
      "metadata": {
        "id": "J6zseyaPyA-0"
      },
      "source": [
        "# Optimizing Code: Common Books\n",
        "Here's the code your coworker wrote to find the common book ids in `books_published_last_two_years.txt` and `all_coding_books.txt` to obtain a list of recent coding books."
      ]
    },
    {
      "cell_type": "code",
      "metadata": {
        "colab": {
          "base_uri": "https://localhost:8080/"
        },
        "id": "LyLBy5okyA_i",
        "outputId": "e84e422c-17bb-4534-9d90-d33625f2914b"
      },
      "source": [
        "import time\n",
        "import pandas as pd\n",
        "import numpy as np\n",
        "from google.colab import drive\n",
        "drive.mount('/content/drive')"
      ],
      "execution_count": 11,
      "outputs": [
        {
          "output_type": "stream",
          "name": "stdout",
          "text": [
            "Drive already mounted at /content/drive; to attempt to forcibly remount, call drive.mount(\"/content/drive\", force_remount=True).\n"
          ]
        }
      ]
    },
    {
      "cell_type": "code",
      "metadata": {
        "id": "q27J5IyEzHPz"
      },
      "source": [
        "with open('/content/books-published-last-two-years.txt', 'r') as f: \n",
        "    recent_books = f.read().split('\\n')"
      ],
      "execution_count": 24,
      "outputs": []
    },
    {
      "cell_type": "code",
      "metadata": {
        "id": "f21M6I6MyA_r"
      },
      "source": [
        "with open('/content/all-coding-books.txt', 'r') as f:\n",
        "    coding_books = f.read().split('\\n')"
      ],
      "execution_count": 22,
      "outputs": []
    },
    {
      "cell_type": "code",
      "metadata": {
        "colab": {
          "base_uri": "https://localhost:8080/"
        },
        "id": "bOZY6LXWyA_w",
        "outputId": "65643ea7-ccba-45c6-ef1b-d1938a6c4b12"
      },
      "source": [
        "start = time.time()\n",
        "recent_coding_books = []\n",
        "\n",
        "for book in recent_books:\n",
        "    if book in coding_books:\n",
        "        recent_coding_books.append(book)\n",
        "\n",
        "print(len(recent_coding_books))\n",
        "print('Duration: {} seconds'.format(time.time() - start))"
      ],
      "execution_count": 26,
      "outputs": [
        {
          "output_type": "stream",
          "name": "stdout",
          "text": [
            "96\n",
            "Duration: 16.106045961380005 seconds\n"
          ]
        }
      ]
    },
    {
      "cell_type": "markdown",
      "metadata": {
        "id": "MRd7jHt0yA_z"
      },
      "source": [
        "### Tip #1: Use vector operations over loops when possible\n",
        "\n",
        "Use numpy's `intersect1d` method to get the intersection of the `recent_books` and `coding_books` arrays."
      ]
    },
    {
      "cell_type": "code",
      "metadata": {
        "colab": {
          "base_uri": "https://localhost:8080/"
        },
        "id": "cMVtYqylyA_4",
        "outputId": "91bbfe87-9fc7-4a76-8052-e31768ab4405"
      },
      "source": [
        "start = time.time()\n",
        "recent_coding_books = np.intersect1d(recent_books, coding_books)\n",
        "print(len(recent_coding_books))\n",
        "print('Duration: {} seconds'.format(time.time() - start))"
      ],
      "execution_count": 28,
      "outputs": [
        {
          "output_type": "stream",
          "name": "stdout",
          "text": [
            "96\n",
            "Duration: 0.034322261810302734 seconds\n"
          ]
        }
      ]
    },
    {
      "cell_type": "code",
      "metadata": {
        "colab": {
          "base_uri": "https://localhost:8080/"
        },
        "id": "3x_9amU26qCL",
        "outputId": "afd8d7a2-826a-4b8e-dcf5-a003617eda8d"
      },
      "source": [
        "print(np.intersect1d(recent_books, coding_books))\n"
      ],
      "execution_count": 30,
      "outputs": [
        {
          "output_type": "stream",
          "name": "stdout",
          "text": [
            "['1219701' '1258335' '1264806' '1473766' '1694425' '1713507' '1715546'\n",
            " '1900178' '1901264' '1962694' '2009541' '2038925' '2239694' '2439487'\n",
            " '2442952' '2462622' '2644909' '2645238' '2706358' '2920394' '2986045'\n",
            " '2989078' '3036263' '3066256' '3172199' '3264002' '3290103' '3349989'\n",
            " '3517640' '3783712' '4069963' '4137576' '4245126' '4281481' '4580997'\n",
            " '4623179' '4717544' '4959393' '4976621' '4993512' '5205726' '5353921'\n",
            " '5406308' '5764540' '5766722' '5890905' '5951873' '6005218' '6163266'\n",
            " '6445882' '6495493' '6522620' '6595167' '6599509' '6637024' '6889040'\n",
            " '6964516' '6975356' '6977874' '7144292' '7148530' '7170269' '7201791'\n",
            " '7231742' '7286175' '7286871' '7308127' '7356628' '7401186' '7406586'\n",
            " '7531095' '7663370' '7668560' '7689591' '7804101' '7804836' '7852176'\n",
            " '7955543' '8196889' '8255889' '8502866' '8558628' '8604850' '8621688'\n",
            " '8819824' '8873515' '8879982' '8897482' '8919160' '9180837' '9193737'\n",
            " '9255617' '9348635' '9443002' '9497646' '9624309']\n"
          ]
        }
      ]
    },
    {
      "cell_type": "markdown",
      "metadata": {
        "id": "vSgQ5-etyBAD"
      },
      "source": [
        "### Tip #2: Know your data structures and which methods are faster\n",
        "Use the set's `intersection` method to get the common elements in `recent_books` and `coding_books`."
      ]
    },
    {
      "cell_type": "code",
      "metadata": {
        "colab": {
          "base_uri": "https://localhost:8080/"
        },
        "id": "YbxHys6KyBAF",
        "outputId": "a381cfdf-6fec-49ca-bdc8-615ec3b5e607"
      },
      "source": [
        "start = time.time()\n",
        "recent_coding_books = set(recent_books).intersection(coding_books)\n",
        "print(len(recent_coding_books))\n",
        "print('Duration: {} seconds'.format(time.time() - start))"
      ],
      "execution_count": 29,
      "outputs": [
        {
          "output_type": "stream",
          "name": "stdout",
          "text": [
            "96\n",
            "Duration: 0.00873255729675293 seconds\n"
          ]
        }
      ]
    },
    {
      "cell_type": "code",
      "metadata": {
        "id": "shbK3fQIyBAI"
      },
      "source": [
        ""
      ],
      "execution_count": null,
      "outputs": []
    }
  ]
}